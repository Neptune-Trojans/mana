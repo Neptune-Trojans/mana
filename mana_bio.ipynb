{
 "cells": [
  {
   "cell_type": "markdown",
   "id": "7b20b43d-394b-4ee7-8364-9d22bdac5ea3",
   "metadata": {},
   "source": [
    "# MANA BIO Assignment "
   ]
  },
  {
   "cell_type": "code",
   "execution_count": 1,
   "id": "e3241b08-eed1-424b-b7d9-a959a970aa9a",
   "metadata": {},
   "outputs": [],
   "source": [
    "import pandas as pd\n",
    "import matplotlib.pyplot as plt\n",
    "import matplotlib.image as mpimg\n",
    "from scipy.signal import find_peaks\n",
    "import re\n",
    "import html\n",
    "import numpy as np\n",
    "from wordcloud import WordCloud\n",
    "from gensim import corpora\n",
    "from nltk.tokenize import word_tokenize\n",
    "import nltk\n",
    "from gensim.models import LdaModel"
   ]
  },
  {
   "cell_type": "code",
   "execution_count": 2,
   "id": "8769f804-05c8-4638-80f8-94d64b2182b6",
   "metadata": {},
   "outputs": [],
   "source": [
    "# loading stop words for text processing\n",
    "with open('stop_words_english.txt', 'r') as file:\n",
    "    stop_words = set([line.strip() for line in file])"
   ]
  },
  {
   "cell_type": "code",
   "execution_count": 3,
   "id": "2ebefc3c-09db-4705-aba3-898d4d6fd37e",
   "metadata": {},
   "outputs": [],
   "source": [
    "# path to the data file, should be changed, if run locally\n",
    "data_path = '/Users/yudkin/Documents/mana_bio/reddit_data.csv'"
   ]
  },
  {
   "cell_type": "code",
   "execution_count": 4,
   "id": "d3518cd0-7c26-47ad-ae1d-bd6b156cdaac",
   "metadata": {},
   "outputs": [],
   "source": [
    "df = pd.read_csv(data_path)\n",
    "df['body'] = df['body'].astype(str)\n",
    "df['author'] = df['author'].astype(str)\n",
    "df['created_utc'] = pd.to_datetime(df['created_utc'])\n",
    "df['date'] = df['created_utc'].dt.date\n",
    "df['subreddit'] = df['subreddit'].str.lower()"
   ]
  },
  {
   "cell_type": "markdown",
   "id": "84c12eaf-9ef8-47b7-ad1e-22ebcf45afbc",
   "metadata": {},
   "source": [
    "# Cleanng and some basic data visualizations"
   ]
  },
  {
   "cell_type": "code",
   "execution_count": 5,
   "id": "c5dfee58-ba95-452c-91e7-82f606f41f43",
   "metadata": {},
   "outputs": [
    {
     "name": "stdout",
     "output_type": "stream",
     "text": [
      "Total 558353 rows before processing the data\n"
     ]
    }
   ],
   "source": [
    "print(f'Total {len(df)} rows before processing the data')"
   ]
  },
  {
   "cell_type": "code",
   "execution_count": 6,
   "id": "69efea2f-b49d-44eb-a3cf-e24708fea551",
   "metadata": {
    "scrolled": true
   },
   "outputs": [
    {
     "data": {
      "text/html": [
       "<div>\n",
       "<style scoped>\n",
       "    .dataframe tbody tr th:only-of-type {\n",
       "        vertical-align: middle;\n",
       "    }\n",
       "\n",
       "    .dataframe tbody tr th {\n",
       "        vertical-align: top;\n",
       "    }\n",
       "\n",
       "    .dataframe thead th {\n",
       "        text-align: right;\n",
       "    }\n",
       "</style>\n",
       "<table border=\"1\" class=\"dataframe\">\n",
       "  <thead>\n",
       "    <tr style=\"text-align: right;\">\n",
       "      <th></th>\n",
       "      <th>author</th>\n",
       "      <th>body</th>\n",
       "      <th>created_utc</th>\n",
       "      <th>subreddit</th>\n",
       "      <th>id</th>\n",
       "      <th>score</th>\n",
       "      <th>date</th>\n",
       "    </tr>\n",
       "  </thead>\n",
       "  <tbody>\n",
       "    <tr>\n",
       "      <th>0</th>\n",
       "      <td>malcontent</td>\n",
       "      <td>&amp;gt;The business cannot survive paying out ben...</td>\n",
       "      <td>2008-12-18 08:00:37</td>\n",
       "      <td>politics</td>\n",
       "      <td>2</td>\n",
       "      <td>1</td>\n",
       "      <td>2008-12-18</td>\n",
       "    </tr>\n",
       "    <tr>\n",
       "      <th>1</th>\n",
       "      <td>malcontent</td>\n",
       "      <td>&amp;gt;I'm curious, how do you see, beyond defini...</td>\n",
       "      <td>2008-12-18 08:00:41</td>\n",
       "      <td>politics</td>\n",
       "      <td>3</td>\n",
       "      <td>1</td>\n",
       "      <td>2008-12-18</td>\n",
       "    </tr>\n",
       "    <tr>\n",
       "      <th>2</th>\n",
       "      <td>malcontent</td>\n",
       "      <td>&amp;gt;I'm curious, how do you see, beyond defini...</td>\n",
       "      <td>2008-12-18 08:00:53</td>\n",
       "      <td>politics</td>\n",
       "      <td>4</td>\n",
       "      <td>2</td>\n",
       "      <td>2008-12-18</td>\n",
       "    </tr>\n",
       "    <tr>\n",
       "      <th>3</th>\n",
       "      <td>[deleted]</td>\n",
       "      <td>[deleted]</td>\n",
       "      <td>2008-12-18 08:01:07</td>\n",
       "      <td>wtf</td>\n",
       "      <td>5</td>\n",
       "      <td>1</td>\n",
       "      <td>2008-12-18</td>\n",
       "    </tr>\n",
       "    <tr>\n",
       "      <th>4</th>\n",
       "      <td>catalytica</td>\n",
       "      <td>The greatest historic instigator of human divi...</td>\n",
       "      <td>2008-12-18 08:01:20</td>\n",
       "      <td>atheism</td>\n",
       "      <td>7</td>\n",
       "      <td>0</td>\n",
       "      <td>2008-12-18</td>\n",
       "    </tr>\n",
       "    <tr>\n",
       "      <th>5</th>\n",
       "      <td>jz_</td>\n",
       "      <td>Looking forward to\\n\\n* writing more tests for...</td>\n",
       "      <td>2008-12-18 08:01:24</td>\n",
       "      <td>programming</td>\n",
       "      <td>8</td>\n",
       "      <td>2</td>\n",
       "      <td>2008-12-18</td>\n",
       "    </tr>\n",
       "    <tr>\n",
       "      <th>6</th>\n",
       "      <td>JasonDJ</td>\n",
       "      <td>&amp;gt; Over 75 percent of films in the top 50 we...</td>\n",
       "      <td>2008-12-18 08:01:32</td>\n",
       "      <td>wtf</td>\n",
       "      <td>a</td>\n",
       "      <td>7</td>\n",
       "      <td>2008-12-18</td>\n",
       "    </tr>\n",
       "    <tr>\n",
       "      <th>7</th>\n",
       "      <td>[deleted]</td>\n",
       "      <td>[deleted]</td>\n",
       "      <td>2008-12-18 08:01:44</td>\n",
       "      <td>wtf</td>\n",
       "      <td>b</td>\n",
       "      <td>4</td>\n",
       "      <td>2008-12-18</td>\n",
       "    </tr>\n",
       "    <tr>\n",
       "      <th>8</th>\n",
       "      <td>adamld</td>\n",
       "      <td>&amp;gt;Where are we today?\\n\\nBeen outside lately...</td>\n",
       "      <td>2008-12-18 08:01:57</td>\n",
       "      <td>atheism</td>\n",
       "      <td>d</td>\n",
       "      <td>2</td>\n",
       "      <td>2008-12-18</td>\n",
       "    </tr>\n",
       "    <tr>\n",
       "      <th>9</th>\n",
       "      <td>wonkifier</td>\n",
       "      <td>ding ding ding.  Give that man a prize!\\n\\nYes...</td>\n",
       "      <td>2008-12-18 08:02:05</td>\n",
       "      <td>atheism</td>\n",
       "      <td>e</td>\n",
       "      <td>19</td>\n",
       "      <td>2008-12-18</td>\n",
       "    </tr>\n",
       "    <tr>\n",
       "      <th>10</th>\n",
       "      <td>malcontent</td>\n",
       "      <td>What?\\n\\nNo No. I get it. You think there is n...</td>\n",
       "      <td>2008-12-18 08:02:06</td>\n",
       "      <td>economics</td>\n",
       "      <td>f</td>\n",
       "      <td>1</td>\n",
       "      <td>2008-12-18</td>\n",
       "    </tr>\n",
       "    <tr>\n",
       "      <th>11</th>\n",
       "      <td>michaelok</td>\n",
       "      <td>Aha, a little further digging in the thread, a...</td>\n",
       "      <td>2008-12-18 08:02:08</td>\n",
       "      <td>programming</td>\n",
       "      <td>g</td>\n",
       "      <td>0</td>\n",
       "      <td>2008-12-18</td>\n",
       "    </tr>\n",
       "    <tr>\n",
       "      <th>12</th>\n",
       "      <td>Smight</td>\n",
       "      <td>Dizzy Gillespie</td>\n",
       "      <td>2008-12-18 08:02:13</td>\n",
       "      <td>pics</td>\n",
       "      <td>i</td>\n",
       "      <td>3</td>\n",
       "      <td>2008-12-18</td>\n",
       "    </tr>\n",
       "    <tr>\n",
       "      <th>13</th>\n",
       "      <td>namelia12</td>\n",
       "      <td>Nevada traffic School - Welcome to Nevada Traf...</td>\n",
       "      <td>2008-12-18 08:02:17</td>\n",
       "      <td>worldnews</td>\n",
       "      <td>j</td>\n",
       "      <td>1</td>\n",
       "      <td>2008-12-18</td>\n",
       "    </tr>\n",
       "    <tr>\n",
       "      <th>14</th>\n",
       "      <td>[deleted]</td>\n",
       "      <td>[deleted]</td>\n",
       "      <td>2008-12-18 08:02:31</td>\n",
       "      <td>atheism</td>\n",
       "      <td>m</td>\n",
       "      <td>1</td>\n",
       "      <td>2008-12-18</td>\n",
       "    </tr>\n",
       "    <tr>\n",
       "      <th>15</th>\n",
       "      <td>rafuzo2</td>\n",
       "      <td>&amp;gt;Can we cut the crap here? Can we look disp...</td>\n",
       "      <td>2008-12-18 08:02:36</td>\n",
       "      <td>business</td>\n",
       "      <td>n</td>\n",
       "      <td>0</td>\n",
       "      <td>2008-12-18</td>\n",
       "    </tr>\n",
       "    <tr>\n",
       "      <th>16</th>\n",
       "      <td>myotheralt</td>\n",
       "      <td>[http://instantrimshot.com/](http://instantrim...</td>\n",
       "      <td>2008-12-18 08:02:42</td>\n",
       "      <td>wtf</td>\n",
       "      <td>q</td>\n",
       "      <td>5</td>\n",
       "      <td>2008-12-18</td>\n",
       "    </tr>\n",
       "    <tr>\n",
       "      <th>17</th>\n",
       "      <td>lookagain</td>\n",
       "      <td>*EDIT* double post.  WTF is up with reddit and...</td>\n",
       "      <td>2008-12-18 08:03:02</td>\n",
       "      <td>atheism</td>\n",
       "      <td>s</td>\n",
       "      <td>1</td>\n",
       "      <td>2008-12-18</td>\n",
       "    </tr>\n",
       "    <tr>\n",
       "      <th>18</th>\n",
       "      <td>lookagain</td>\n",
       "      <td>Well, in the past I have modded some of your c...</td>\n",
       "      <td>2008-12-18 08:03:41</td>\n",
       "      <td>atheism</td>\n",
       "      <td>u</td>\n",
       "      <td>3</td>\n",
       "      <td>2008-12-18</td>\n",
       "    </tr>\n",
       "    <tr>\n",
       "      <th>19</th>\n",
       "      <td>rafuzo2</td>\n",
       "      <td>More like, who will be our Robespierre.</td>\n",
       "      <td>2008-12-18 08:03:47</td>\n",
       "      <td>business</td>\n",
       "      <td>v</td>\n",
       "      <td>2</td>\n",
       "      <td>2008-12-18</td>\n",
       "    </tr>\n",
       "  </tbody>\n",
       "</table>\n",
       "</div>"
      ],
      "text/plain": [
       "        author                                               body  \\\n",
       "0   malcontent  &gt;The business cannot survive paying out ben...   \n",
       "1   malcontent  &gt;I'm curious, how do you see, beyond defini...   \n",
       "2   malcontent  &gt;I'm curious, how do you see, beyond defini...   \n",
       "3    [deleted]                                          [deleted]   \n",
       "4   catalytica  The greatest historic instigator of human divi...   \n",
       "5          jz_  Looking forward to\\n\\n* writing more tests for...   \n",
       "6      JasonDJ  &gt; Over 75 percent of films in the top 50 we...   \n",
       "7    [deleted]                                          [deleted]   \n",
       "8       adamld  &gt;Where are we today?\\n\\nBeen outside lately...   \n",
       "9    wonkifier  ding ding ding.  Give that man a prize!\\n\\nYes...   \n",
       "10  malcontent  What?\\n\\nNo No. I get it. You think there is n...   \n",
       "11   michaelok  Aha, a little further digging in the thread, a...   \n",
       "12      Smight                                    Dizzy Gillespie   \n",
       "13   namelia12  Nevada traffic School - Welcome to Nevada Traf...   \n",
       "14   [deleted]                                          [deleted]   \n",
       "15     rafuzo2  &gt;Can we cut the crap here? Can we look disp...   \n",
       "16  myotheralt  [http://instantrimshot.com/](http://instantrim...   \n",
       "17   lookagain  *EDIT* double post.  WTF is up with reddit and...   \n",
       "18   lookagain  Well, in the past I have modded some of your c...   \n",
       "19     rafuzo2            More like, who will be our Robespierre.   \n",
       "\n",
       "           created_utc    subreddit id  score        date  \n",
       "0  2008-12-18 08:00:37     politics  2      1  2008-12-18  \n",
       "1  2008-12-18 08:00:41     politics  3      1  2008-12-18  \n",
       "2  2008-12-18 08:00:53     politics  4      2  2008-12-18  \n",
       "3  2008-12-18 08:01:07          wtf  5      1  2008-12-18  \n",
       "4  2008-12-18 08:01:20      atheism  7      0  2008-12-18  \n",
       "5  2008-12-18 08:01:24  programming  8      2  2008-12-18  \n",
       "6  2008-12-18 08:01:32          wtf  a      7  2008-12-18  \n",
       "7  2008-12-18 08:01:44          wtf  b      4  2008-12-18  \n",
       "8  2008-12-18 08:01:57      atheism  d      2  2008-12-18  \n",
       "9  2008-12-18 08:02:05      atheism  e     19  2008-12-18  \n",
       "10 2008-12-18 08:02:06    economics  f      1  2008-12-18  \n",
       "11 2008-12-18 08:02:08  programming  g      0  2008-12-18  \n",
       "12 2008-12-18 08:02:13         pics  i      3  2008-12-18  \n",
       "13 2008-12-18 08:02:17    worldnews  j      1  2008-12-18  \n",
       "14 2008-12-18 08:02:31      atheism  m      1  2008-12-18  \n",
       "15 2008-12-18 08:02:36     business  n      0  2008-12-18  \n",
       "16 2008-12-18 08:02:42          wtf  q      5  2008-12-18  \n",
       "17 2008-12-18 08:03:02      atheism  s      1  2008-12-18  \n",
       "18 2008-12-18 08:03:41      atheism  u      3  2008-12-18  \n",
       "19 2008-12-18 08:03:47     business  v      2  2008-12-18  "
      ]
     },
     "execution_count": 6,
     "metadata": {},
     "output_type": "execute_result"
    }
   ],
   "source": [
    "df.head(20)"
   ]
  },
  {
   "cell_type": "code",
   "execution_count": 7,
   "id": "7450b099-9f5a-4cec-8bec-2dd18e9fbdc1",
   "metadata": {},
   "outputs": [
    {
     "data": {
      "text/plain": [
       "True"
      ]
     },
     "execution_count": 7,
     "metadata": {},
     "output_type": "execute_result"
    }
   ],
   "source": [
    "# looks like id column is unique row identification.\n",
    "len(df.id.unique()) == len(df)"
   ]
  },
  {
   "cell_type": "code",
   "execution_count": 8,
   "id": "6c08b9d2-7bfb-409f-b8a1-b1134ae264bf",
   "metadata": {},
   "outputs": [
    {
     "data": {
      "text/plain": [
       "author\n",
       "[deleted]             175959\n",
       "malcontent              1216\n",
       "FokkeNews                954\n",
       "yehauma                  845\n",
       "mexicodoug               771\n",
       "                       ...  \n",
       "redbeard1                  1\n",
       "YourLizardOverlord         1\n",
       "Mr_Right                   1\n",
       "mrtubby                    1\n",
       "yentz                      1\n",
       "Name: count, Length: 27301, dtype: int64"
      ]
     },
     "execution_count": 8,
     "metadata": {},
     "output_type": "execute_result"
    }
   ],
   "source": [
    "df.author.value_counts()\n",
    "# There are some deleted authors -  \"[deleted]\""
   ]
  },
  {
   "cell_type": "code",
   "execution_count": 9,
   "id": "931b3cef-0077-45fa-9f46-42dc54d475d7",
   "metadata": {},
   "outputs": [
    {
     "data": {
      "text/plain": [
       "74374"
      ]
     },
     "execution_count": 9,
     "metadata": {},
     "output_type": "execute_result"
    }
   ],
   "source": [
    "sum(df.body == '[deleted]')\n",
    "# some of the posts have the user been deleted but the post  content itself exists."
   ]
  },
  {
   "cell_type": "code",
   "execution_count": 10,
   "id": "a4073bfb-c112-42ce-9d00-4265aec5d48d",
   "metadata": {},
   "outputs": [
    {
     "name": "stdout",
     "output_type": "stream",
     "text": [
      "Stayed with 483979 rows\n"
     ]
    }
   ],
   "source": [
    "# Let's remove all rows where the only content in the body is \"deleted,\" while allowing rows with deleted users to remain.\n",
    "df = df[(df.body != '[deleted]')]\n",
    "print(f'Stayed with {len(df)} rows')"
   ]
  },
  {
   "cell_type": "code",
   "execution_count": 11,
   "id": "93979098-88a3-485e-98ce-e774883aa255",
   "metadata": {},
   "outputs": [
    {
     "data": {
      "text/plain": [
       "Text(0.5, 1.0, 'Posts Score Distribution')"
      ]
     },
     "execution_count": 11,
     "metadata": {},
     "output_type": "execute_result"
    },
    {
     "data": {
      "image/png": "[encoded data removed]",
      "text/plain": [
       "<Figure size 600x500 with 1 Axes>"
      ]
     },
     "metadata": {},
     "output_type": "display_data"
    }
   ],
   "source": [
    "plt.figure(figsize=(6, 5))\n",
    "df.score.hist(bins=1000)\n",
    "plt.xlim(-20, 50)\n",
    "plt.title(\"Posts Score Distribution\")"
   ]
  },
  {
   "cell_type": "code",
   "execution_count": 12,
   "id": "f8922aa2-ceaf-492b-b079-5663cdace8e5",
   "metadata": {},
   "outputs": [
    {
     "name": "stdout",
     "output_type": "stream",
     "text": [
      "               Absolute Count  Percentage\n",
      "subreddit                                \n",
      "politics                58608   12.109616\n",
      "wtf                     43227    8.931586\n",
      "pics                    41059    8.483633\n",
      "programming             40080    8.281351\n",
      "worldnews               36997    7.644340\n",
      "funny                   29720    6.140762\n",
      "science                 29583    6.112455\n",
      "atheism                 29240    6.041584\n",
      "technology              28358    5.859345\n",
      "gaming                  17258    3.565857\n",
      "business                16262    3.360063\n",
      "entertainment           15727    3.249521\n",
      "offbeat                 11856    2.449693\n",
      "economics               11320    2.338944\n",
      "comics                   8328    1.720736\n",
      "videos                   7781    1.607714\n",
      "music                    7139    1.475064\n",
      "marijuana                6380    1.318239\n",
      "canada                   5916    1.222367\n",
      "environment              5450    1.126082\n",
      "linux                    5173    1.068848\n",
      "geek                     3900    0.805820\n",
      "news                     3268    0.675236\n",
      "libertarian              2801    0.578744\n",
      "philosophy               2713    0.560562\n",
      "anarchism                2671    0.551883\n",
      "gadgets                  2644    0.546305\n",
      "sports                   2531    0.522957\n",
      "health                   2356    0.486798\n",
      "obama                    2341    0.483699\n",
      "humor                    1773    0.366338\n",
      "movies                   1519    0.313857\n"
     ]
    }
   ],
   "source": [
    "counts = df.subreddit.value_counts()\n",
    "percentages = df.subreddit.value_counts(normalize=True) * 100\n",
    "\n",
    "result = pd.DataFrame({\n",
    "    'Absolute Count': counts,\n",
    "    'Percentage': percentages\n",
    "})\n",
    "\n",
    "print(result)\n",
    "# There is some inbalance in the data, 'politics' for example match larger then 'news' reddit group."
   ]
  },
  {
   "cell_type": "code",
   "execution_count": 13,
   "id": "6a66cef2-b471-4336-b7c7-1ad138624b63",
   "metadata": {},
   "outputs": [
    {
     "name": "stdout",
     "output_type": "stream",
     "text": [
      "Unique authores 27299, 6867  wrote more then 10 messages each \n"
     ]
    }
   ],
   "source": [
    "# we not deleted the [deleted] auter so I am removing it here\n",
    "df1 = df[df.author != '[deleted]']\n",
    "unique_users = len(df1.author.value_counts())\n",
    "unique_authors = df1.author.value_counts()\n",
    "filtered_counts = unique_authors[unique_authors > 10]\n",
    "print(f'Unique authores {len(unique_authors)}, {len(filtered_counts)}  wrote more then 10 messages each ')"
   ]
  },
  {
   "cell_type": "code",
   "execution_count": 14,
   "id": "33d35610-7f07-45fa-8f8e-e4aab16d1898",
   "metadata": {
    "scrolled": true
   },
   "outputs": [
    {
     "data": {
      "text/plain": [
       "author\n",
       "chicofaraby           449\n",
       "FokkeNews             446\n",
       "malcontent            272\n",
       "TruthinessHurts       222\n",
       "innocentbystander     187\n",
       "WhoKilledTeddyBear    179\n",
       "monkeyman114          177\n",
       "nixonrichard          167\n",
       "IConrad               160\n",
       "oconostota            155\n",
       "mexicodoug            150\n",
       "alllie                135\n",
       "NoMoreNicksLeft       135\n",
       "spaceghoti            134\n",
       "FTR                   123\n",
       "hs4x                  120\n",
       "AMerrickanGirl        119\n",
       "AnnArchist            116\n",
       "neuromonkey           109\n",
       "deuteros              108\n",
       "Deacon                107\n",
       "braindrane            105\n",
       "uriel                 104\n",
       "Dark-Star             104\n",
       "plbogen               101\n",
       "garyp714              100\n",
       "MrDanger               97\n",
       "mothereffingteresa     97\n",
       "sigzero                96\n",
       "Ferrofluid             95\n",
       "Name: count, dtype: int64"
      ]
     },
     "execution_count": 14,
     "metadata": {},
     "output_type": "execute_result"
    }
   ],
   "source": [
    "# Lets see how many unique authors with politics subredit\n",
    "df1[df1.subreddit == 'politics'].author.value_counts().head(30)\n",
    "# There are not so many autors that wrote most of the comments. "
   ]
  },
  {
   "cell_type": "code",
   "execution_count": 15,
   "id": "31514379-ccf4-44a9-a0de-98dd6a4a7598",
   "metadata": {},
   "outputs": [
    {
     "data": {
      "text/plain": [
       "date\n",
       "2008-12-01    13819\n",
       "2008-12-02    17378\n",
       "2008-12-03    18377\n",
       "2008-12-04    18118\n",
       "2008-12-05    17774\n",
       "2008-12-06    13252\n",
       "2008-12-07    11983\n",
       "2008-12-08    16858\n",
       "2008-12-09    17708\n",
       "2008-12-10    16870\n",
       "2008-12-11    17969\n",
       "2008-12-12    19203\n",
       "2008-12-13    13598\n",
       "2008-12-14    12108\n",
       "2008-12-15    15902\n",
       "2008-12-16    18289\n",
       "2008-12-17    17370\n",
       "2008-12-18    18289\n",
       "2008-12-19    18010\n",
       "2008-12-20    13641\n",
       "2008-12-21    12240\n",
       "2008-12-22    15361\n",
       "2008-12-23    16718\n",
       "2008-12-24    13455\n",
       "2008-12-25     9935\n",
       "2008-12-26    11429\n",
       "2008-12-27    12821\n",
       "2008-12-28    13153\n",
       "2008-12-29    16571\n",
       "2008-12-30    17882\n",
       "2008-12-31    16352\n",
       "2009-01-01     1546\n",
       "Name: count, dtype: int64"
      ]
     },
     "execution_count": 15,
     "metadata": {},
     "output_type": "execute_result"
    }
   ],
   "source": [
    "df.date.value_counts().sort_index()\n",
    "# all the data came from the same month"
   ]
  },
  {
   "cell_type": "markdown",
   "id": "6c12ee48-0062-46d6-8bab-2f857f315ceb",
   "metadata": {},
   "source": [
    "# Topic modeling approach to categorize posts"
   ]
  },
  {
   "cell_type": "markdown",
   "id": "22eeaa72-5faf-4953-adbd-bf7aae583c32",
   "metadata": {},
   "source": [
    "We need to clean the posts, and for that, I'm using the preprocess_text function below."
   ]
  },
  {
   "cell_type": "code",
   "execution_count": 16,
   "id": "602dfc44-0383-484f-8c0a-d946c9498b92",
   "metadata": {},
   "outputs": [],
   "source": [
    "def preprocess_text(text):\n",
    "    # Decode HTML entities\n",
    "    text = html.unescape(text)\n",
    "    \n",
    "    # Convert to lowercase\n",
    "    text = text.lower()\n",
    "    \n",
    "    # Remove URLs\n",
    "    text = re.sub(r'http\\S+|www\\S+', '', text)\n",
    "    \n",
    "    # Remove punctuation and special characters, keeping only alphanumeric and spaces\n",
    "    text = re.sub(r'[^a-zA-Z\\s]', '', text)\n",
    "    \n",
    "    # Remove extra whitespace\n",
    "    text = re.sub(r'\\s+', ' ', text).strip()\n",
    "\n",
    "    # Tokenize, remove stop words, and rejoin\n",
    "    tokens = word_tokenize(text)\n",
    "    tokens = [word for word in tokens if word not in stop_words]\n",
    "    # not using too short words\n",
    "    tokens = [token for token in tokens if len(token) > 2]\n",
    "\n",
    "    return tokens"
   ]
  },
  {
   "cell_type": "code",
   "execution_count": 17,
   "id": "3861f186-a20e-47ca-a6f0-25077c7fb91a",
   "metadata": {},
   "outputs": [],
   "source": [
    "df['cleaned_body'] = df['body'].apply(preprocess_text)"
   ]
  },
  {
   "cell_type": "code",
   "execution_count": 18,
   "id": "7a6eb193-db61-4cf7-b8c4-f08f701da1c1",
   "metadata": {},
   "outputs": [],
   "source": [
    "words_amount_to_remove = 5\n",
    "# Here, I'm removing posts that contain fewer than 5 words.\n",
    "df['cleaned_body_length'] = df.cleaned_body.apply(len)\n",
    "df = df.sort_values('cleaned_body_length', ascending=True)\n",
    "df = df[df.cleaned_body_length > words_amount_to_remove]"
   ]
  },
  {
   "cell_type": "code",
   "execution_count": 19,
   "id": "a0e5bd9c-2562-4d08-9c54-697ade3e6e19",
   "metadata": {},
   "outputs": [
    {
     "data": {
      "text/html": [
       "<div>\n",
       "<style scoped>\n",
       "    .dataframe tbody tr th:only-of-type {\n",
       "        vertical-align: middle;\n",
       "    }\n",
       "\n",
       "    .dataframe tbody tr th {\n",
       "        vertical-align: top;\n",
       "    }\n",
       "\n",
       "    .dataframe thead th {\n",
       "        text-align: right;\n",
       "    }\n",
       "</style>\n",
       "<table border=\"1\" class=\"dataframe\">\n",
       "  <thead>\n",
       "    <tr style=\"text-align: right;\">\n",
       "      <th></th>\n",
       "      <th>author</th>\n",
       "      <th>body</th>\n",
       "      <th>created_utc</th>\n",
       "      <th>subreddit</th>\n",
       "      <th>id</th>\n",
       "      <th>score</th>\n",
       "      <th>date</th>\n",
       "      <th>cleaned_body</th>\n",
       "      <th>cleaned_body_length</th>\n",
       "    </tr>\n",
       "  </thead>\n",
       "  <tbody>\n",
       "    <tr>\n",
       "      <th>191393</th>\n",
       "      <td>[deleted]</td>\n",
       "      <td>Jesus christ, did she lick the knife when she ...</td>\n",
       "      <td>2008-12-30 00:29:08</td>\n",
       "      <td>science</td>\n",
       "      <td>6fud</td>\n",
       "      <td>56</td>\n",
       "      <td>2008-12-30</td>\n",
       "      <td>[jesus, christ, lick, knife, sooo, badass]</td>\n",
       "      <td>6</td>\n",
       "    </tr>\n",
       "    <tr>\n",
       "      <th>191534</th>\n",
       "      <td>alllie</td>\n",
       "      <td>I think the BBC site, especially the Arab vers...</td>\n",
       "      <td>2008-12-30 00:36:29</td>\n",
       "      <td>pics</td>\n",
       "      <td>6g0t</td>\n",
       "      <td>-3</td>\n",
       "      <td>2008-12-30</td>\n",
       "      <td>[bbc, arab, version, plenty, civilian, victims]</td>\n",
       "      <td>6</td>\n",
       "    </tr>\n",
       "    <tr>\n",
       "      <th>197058</th>\n",
       "      <td>trackerbishop</td>\n",
       "      <td>I should have said religion/spirituality rathe...</td>\n",
       "      <td>2008-12-30 06:28:55</td>\n",
       "      <td>atheism</td>\n",
       "      <td>6my2</td>\n",
       "      <td>-4</td>\n",
       "      <td>2008-12-30</td>\n",
       "      <td>[religionspirituality, christianity, bad, disa...</td>\n",
       "      <td>6</td>\n",
       "    </tr>\n",
       "    <tr>\n",
       "      <th>284600</th>\n",
       "      <td>elvisliveson</td>\n",
       "      <td>With all those zits on him, he might as well h...</td>\n",
       "      <td>2008-12-03 20:30:11</td>\n",
       "      <td>pics</td>\n",
       "      <td>c06n3yo</td>\n",
       "      <td>1</td>\n",
       "      <td>2008-12-03</td>\n",
       "      <td>[zits, moon, surface, forehead, buffered, even...</td>\n",
       "      <td>6</td>\n",
       "    </tr>\n",
       "    <tr>\n",
       "      <th>541938</th>\n",
       "      <td>PocketOSunshine</td>\n",
       "      <td>No mention if he absorbed a twin.  How else wo...</td>\n",
       "      <td>2008-12-17 16:08:49</td>\n",
       "      <td>wtf</td>\n",
       "      <td>c06vde8</td>\n",
       "      <td>12</td>\n",
       "      <td>2008-12-17</td>\n",
       "      <td>[mention, absorbed, twin, feet, brain, weird]</td>\n",
       "      <td>6</td>\n",
       "    </tr>\n",
       "  </tbody>\n",
       "</table>\n",
       "</div>"
      ],
      "text/plain": [
       "                 author                                               body  \\\n",
       "191393        [deleted]  Jesus christ, did she lick the knife when she ...   \n",
       "191534           alllie  I think the BBC site, especially the Arab vers...   \n",
       "197058    trackerbishop  I should have said religion/spirituality rathe...   \n",
       "284600     elvisliveson  With all those zits on him, he might as well h...   \n",
       "541938  PocketOSunshine  No mention if he absorbed a twin.  How else wo...   \n",
       "\n",
       "               created_utc subreddit       id  score        date  \\\n",
       "191393 2008-12-30 00:29:08   science     6fud     56  2008-12-30   \n",
       "191534 2008-12-30 00:36:29      pics     6g0t     -3  2008-12-30   \n",
       "197058 2008-12-30 06:28:55   atheism     6my2     -4  2008-12-30   \n",
       "284600 2008-12-03 20:30:11      pics  c06n3yo      1  2008-12-03   \n",
       "541938 2008-12-17 16:08:49       wtf  c06vde8     12  2008-12-17   \n",
       "\n",
       "                                             cleaned_body  cleaned_body_length  \n",
       "191393         [jesus, christ, lick, knife, sooo, badass]                    6  \n",
       "191534    [bbc, arab, version, plenty, civilian, victims]                    6  \n",
       "197058  [religionspirituality, christianity, bad, disa...                    6  \n",
       "284600  [zits, moon, surface, forehead, buffered, even...                    6  \n",
       "541938      [mention, absorbed, twin, feet, brain, weird]                    6  "
      ]
     },
     "execution_count": 19,
     "metadata": {},
     "output_type": "execute_result"
    }
   ],
   "source": [
    "df.head()"
   ]
  },
  {
   "cell_type": "code",
   "execution_count": 20,
   "id": "fd58aa9e-4c56-4217-ba89-9193b894aa44",
   "metadata": {},
   "outputs": [
    {
     "data": {
      "text/html": [
       "<div>\n",
       "<style scoped>\n",
       "    .dataframe tbody tr th:only-of-type {\n",
       "        vertical-align: middle;\n",
       "    }\n",
       "\n",
       "    .dataframe tbody tr th {\n",
       "        vertical-align: top;\n",
       "    }\n",
       "\n",
       "    .dataframe thead th {\n",
       "        text-align: right;\n",
       "    }\n",
       "</style>\n",
       "<table border=\"1\" class=\"dataframe\">\n",
       "  <thead>\n",
       "    <tr style=\"text-align: right;\">\n",
       "      <th></th>\n",
       "      <th>author</th>\n",
       "      <th>body</th>\n",
       "      <th>created_utc</th>\n",
       "      <th>subreddit</th>\n",
       "      <th>id</th>\n",
       "      <th>score</th>\n",
       "      <th>date</th>\n",
       "      <th>cleaned_body</th>\n",
       "      <th>cleaned_body_length</th>\n",
       "    </tr>\n",
       "  </thead>\n",
       "  <tbody>\n",
       "    <tr>\n",
       "      <th>486647</th>\n",
       "      <td>ThickGreenPuke</td>\n",
       "      <td>You have no idea how stupid our civilization i...</td>\n",
       "      <td>2008-12-14 19:03:00</td>\n",
       "      <td>pics</td>\n",
       "      <td>c06tjq1</td>\n",
       "      <td>-594</td>\n",
       "      <td>2008-12-14</td>\n",
       "      <td>[idea, stupid, civilization, modern, science, ...</td>\n",
       "      <td>89</td>\n",
       "    </tr>\n",
       "    <tr>\n",
       "      <th>437849</th>\n",
       "      <td>concini</td>\n",
       "      <td>I was going to comment about how I hated you f...</td>\n",
       "      <td>2008-12-11 23:19:24</td>\n",
       "      <td>funny</td>\n",
       "      <td>c06s1gl</td>\n",
       "      <td>-99</td>\n",
       "      <td>2008-12-11</td>\n",
       "      <td>[comment, hated, simply, copying, linked, post...</td>\n",
       "      <td>14</td>\n",
       "    </tr>\n",
       "    <tr>\n",
       "      <th>358251</th>\n",
       "      <td>IAmInLoveWithJesus</td>\n",
       "      <td>I can't speak for the other religious traditio...</td>\n",
       "      <td>2008-12-07 23:16:52</td>\n",
       "      <td>pics</td>\n",
       "      <td>c06pgrs</td>\n",
       "      <td>-97</td>\n",
       "      <td>2008-12-07</td>\n",
       "      <td>[speak, religious, traditions, christianity, t...</td>\n",
       "      <td>70</td>\n",
       "    </tr>\n",
       "    <tr>\n",
       "      <th>360982</th>\n",
       "      <td>IAmInLoveWithJesus</td>\n",
       "      <td>It's a ridiculous idea.\\n\\nLiberals have this ...</td>\n",
       "      <td>2008-12-08 02:21:31</td>\n",
       "      <td>technology</td>\n",
       "      <td>c06pju5</td>\n",
       "      <td>-93</td>\n",
       "      <td>2008-12-08</td>\n",
       "      <td>[ridiculous, idea, liberals, pie, sky, belief,...</td>\n",
       "      <td>24</td>\n",
       "    </tr>\n",
       "    <tr>\n",
       "      <th>224195</th>\n",
       "      <td>[deleted]</td>\n",
       "      <td>LOL, i can't believe you are continuing this b...</td>\n",
       "      <td>2008-12-31 18:40:31</td>\n",
       "      <td>worldnews</td>\n",
       "      <td>7m9f</td>\n",
       "      <td>-73</td>\n",
       "      <td>2008-12-31</td>\n",
       "      <td>[lol, continuing, bullshit, wake, kid, fuck, a...</td>\n",
       "      <td>12</td>\n",
       "    </tr>\n",
       "  </tbody>\n",
       "</table>\n",
       "</div>"
      ],
      "text/plain": [
       "                    author                                               body  \\\n",
       "486647      ThickGreenPuke  You have no idea how stupid our civilization i...   \n",
       "437849             concini  I was going to comment about how I hated you f...   \n",
       "358251  IAmInLoveWithJesus  I can't speak for the other religious traditio...   \n",
       "360982  IAmInLoveWithJesus  It's a ridiculous idea.\\n\\nLiberals have this ...   \n",
       "224195           [deleted]  LOL, i can't believe you are continuing this b...   \n",
       "\n",
       "               created_utc   subreddit       id  score        date  \\\n",
       "486647 2008-12-14 19:03:00        pics  c06tjq1   -594  2008-12-14   \n",
       "437849 2008-12-11 23:19:24       funny  c06s1gl    -99  2008-12-11   \n",
       "358251 2008-12-07 23:16:52        pics  c06pgrs    -97  2008-12-07   \n",
       "360982 2008-12-08 02:21:31  technology  c06pju5    -93  2008-12-08   \n",
       "224195 2008-12-31 18:40:31   worldnews     7m9f    -73  2008-12-31   \n",
       "\n",
       "                                             cleaned_body  cleaned_body_length  \n",
       "486647  [idea, stupid, civilization, modern, science, ...                   89  \n",
       "437849  [comment, hated, simply, copying, linked, post...                   14  \n",
       "358251  [speak, religious, traditions, christianity, t...                   70  \n",
       "360982  [ridiculous, idea, liberals, pie, sky, belief,...                   24  \n",
       "224195  [lol, continuing, bullshit, wake, kid, fuck, a...                   12  "
      ]
     },
     "execution_count": 20,
     "metadata": {},
     "output_type": "execute_result"
    }
   ],
   "source": [
    "df.sort_values('score', ascending=True).head()\n",
    "# I'm just looking on posts with the lowest Reddit scores."
   ]
  },
  {
   "cell_type": "markdown",
   "id": "71b9f6f0-7bc2-4794-b152-40599d18ff9a",
   "metadata": {},
   "source": [
    "# Topic Modeling"
   ]
  },
  {
   "cell_type": "markdown",
   "id": "220e3806-adf3-4ed6-921d-111a8aac126a",
   "metadata": {},
   "source": [
    "I'm using Latent Dirichlet Allocation (LDA) to perform topic modeling on the posts.\n",
    "\n",
    "This approach helps identify underlying themes by clustering similar posts into distinct topics based on word distributions."
   ]
  },
  {
   "cell_type": "code",
   "execution_count": null,
   "id": "3fe4ebd0-7e3d-4573-9d1a-aee6d1a2fe63",
   "metadata": {},
   "outputs": [],
   "source": [
    "preprocessed_docs = df.cleaned_body.values\n",
    "\n",
    "dictionary = corpora.Dictionary(preprocessed_docs)\n",
    "\n",
    "# Remove low-frequency terms from the dictionary\n",
    "dictionary.filter_extremes(no_below=10)\n",
    "\n",
    "# Create a document-term matrix\n",
    "doc_term_matrix = [dictionary.doc2bow(doc) for doc in preprocessed_docs]\n",
    "\n",
    "# I am taking this number to be close to the number of subreddit groups.\n",
    "# gennerally better to use Coherence scores and then plotting them, not doing it here due to time limitation.\n",
    "num_topics = 30\n",
    "lda_model = LdaModel(doc_term_matrix, num_topics=num_topics, id2word=dictionary, passes=1, chunksize=10000)"
   ]
  },
  {
   "cell_type": "code",
   "execution_count": null,
   "id": "3f369bfb-b090-4ae1-9232-7e85baf1aa60",
   "metadata": {},
   "outputs": [],
   "source": [
    "# Those are the topics that we got, with the tipical words.\n",
    "for i, topic in lda_model.show_topics(num_topics=num_topics, formatted=False):\n",
    "    print('Topic {}: {}'.format(i, ', '.join([word[0] for word in topic])))"
   ]
  },
  {
   "cell_type": "code",
   "execution_count": null,
   "id": "3dd9726f-6b65-4317-b6d0-43306f8862df",
   "metadata": {
    "scrolled": true
   },
   "outputs": [],
   "source": [
    "# Load new document\n",
    "new_doc = 'Darwin fish bumper stickers and assorted other atheist paraphernalia are available from the Freedom From Religion Foundation in the US.'\n",
    "# Preprocess the new document\n",
    "new_doc = preprocess_text(new_doc)\n",
    "\n",
    "def topic_model_inference(new_doc):\n",
    "    # Create a bag-of-words representation of the new document\n",
    "    new_doc_bow = dictionary.doc2bow(new_doc)\n",
    "    \n",
    "    # Use the LDA model to infer the topic distribution of the new document\n",
    "    new_doc_topics = lda_model.get_document_topics(new_doc_bow)\n",
    "\n",
    "    return new_doc_topics\n",
    "    \n",
    "document_topics = topic_model_inference(new_doc)\n",
    "print('Topics of the New Document with their probability: {}'.format(document_topics))"
   ]
  },
  {
   "cell_type": "markdown",
   "id": "7b8324c9-c934-4c71-8047-39d0d0821bb6",
   "metadata": {},
   "source": [
    "# Topic modeling outputs to find real-world events in the data over time."
   ]
  },
  {
   "cell_type": "code",
   "execution_count": null,
   "id": "01736d5a-79c8-4d09-a09f-d0cde51a1d64",
   "metadata": {},
   "outputs": [],
   "source": [
    "df.reset_index(inplace=True, drop=True)\n",
    "embeddings = np.zeros((len(df), num_topics))"
   ]
  },
  {
   "cell_type": "code",
   "execution_count": null,
   "id": "51d76411-dd17-492f-8726-f186943e0919",
   "metadata": {},
   "outputs": [],
   "source": [
    "for row_id, row in df.iterrows():\n",
    "    document_topics = topic_model_inference(row['cleaned_body'])\n",
    "    for column_idx, val in document_topics:\n",
    "        embeddings[row_id, column_idx] = val"
   ]
  },
  {
   "cell_type": "code",
   "execution_count": null,
   "id": "94f548f6-f571-4cca-81e8-2726859e30fa",
   "metadata": {},
   "outputs": [],
   "source": [
    "grouped_by_date_df = df.groupby('date')\n",
    "data = np.zeros((len(grouped_by_date_df), num_topics))\n",
    "date_index = []\n",
    "for date_counter, (date, group) in enumerate(grouped_by_date_df):\n",
    "    date_index.append(date)\n",
    "    \n",
    "    for i in range(num_topics):\n",
    "        indexes = group.index.values\n",
    "        data[date_counter, i] = sum(embeddings[indexes, i])\n",
    "#dataframe with dates as rows and columns are topic_ids cells are the values of sum over that day.\n",
    "data_df = pd.DataFrame(data = data, index=date_index)"
   ]
  },
  {
   "cell_type": "markdown",
   "id": "2d3d14aa-8855-45d0-8447-0b8a879b64b6",
   "metadata": {},
   "source": [
    "Lets see the topic #28 which is around israel and see if we can recognize some trends.\n",
    "\n",
    "Topic 28: israel, people, killed, jews, hamas, attack, palestinians, killing, military, kill"
   ]
  },
  {
   "cell_type": "code",
   "execution_count": null,
   "id": "d51025dd-1f8c-41ff-8ebc-78c33acc8d4c",
   "metadata": {
    "scrolled": true
   },
   "outputs": [],
   "source": [
    "def plot_topic_id(topic_id):\n",
    "    dates = data_df[topic_id].index\n",
    "    values = data_df[topic_id].values\n",
    "    \n",
    "    # Resample by day and plot\n",
    "    plt.figure(figsize=(10, 6))\n",
    "    plt.plot(dates, values, marker='o')\n",
    "    plt.xlabel(\"Date\")\n",
    "    plt.ylabel(\"Number of Entries\")\n",
    "    plt.title(f\"Daily Entry Counts topic_id: {topic_id}\")\n",
    "    plt.show()"
   ]
  },
  {
   "cell_type": "code",
   "execution_count": null,
   "id": "6748cdd5-b6e8-4f48-b056-cd5a24c6d409",
   "metadata": {},
   "outputs": [],
   "source": [
    "plot_topic_id(28)"
   ]
  },
  {
   "cell_type": "markdown",
   "id": "5121d208-dd7d-4ec3-b31c-663fbfe6f94d",
   "metadata": {},
   "source": [
    "We can see the pick in data about war in gaza of 2008."
   ]
  },
  {
   "cell_type": "markdown",
   "id": "33d0de38-cfe6-4344-a0f2-c1a9d393dd27",
   "metadata": {},
   "source": [
    "#### Lets detect the picks in data automaticly \n",
    "Each pick supposed to give as some accurance in the world news."
   ]
  },
  {
   "cell_type": "code",
   "execution_count": null,
   "id": "ef2745d3-66b5-4992-9f75-145255268e5b",
   "metadata": {},
   "outputs": [],
   "source": [
    "\n",
    "peaks_dict = {}\n",
    "\n",
    "#topic_trends = df.groupby(['date', 'topic_modeling_topic']).size().unstack(fill_value=0)\n",
    "\n",
    "#Parameters for significant peaks, those parameters should be tuned.\n",
    "prominence_threshold = 100\n",
    "height_threshold = 50    \n",
    "\n",
    "\n",
    "for topic in data_df.columns:\n",
    "    data = data_df[topic].values\n",
    "    peaks, _ = find_peaks(data, prominence=prominence_threshold, height=height_threshold)\n",
    "    # Store peaks in dictionary\n",
    "    peaks_dict[topic] = peaks"
   ]
  },
  {
   "cell_type": "code",
   "execution_count": null,
   "id": "d73fc157-68df-40a0-bf7e-d680c92c19ae",
   "metadata": {},
   "outputs": [],
   "source": [
    "# Plot the data and mark peaks\n",
    "fig, ax = plt.subplots(figsize=(14, 8))\n",
    "\n",
    "for topic in data_df.columns:\n",
    "    # Extract the time series for the current topic\n",
    "    data = data_df[topic].values\n",
    "    \n",
    "    # Plot the topic trend line\n",
    "    ax.plot(data_df.index, data, label=f\"Topic {topic}\")\n",
    "    peaks = peaks_dict[topic]\n",
    "    # Mark the peaks on the plot\n",
    "    ax.plot(data_df.index[peaks], data[peaks], \"x\")\n",
    "\n",
    "# Customize plot\n",
    "ax.set_xlabel(\"Date\")\n",
    "ax.set_ylabel(\"Number of Entries\")\n",
    "ax.set_title(\"Dominant Topic Peaks Over Time\")\n",
    "ax.legend(title=\"Topics\", bbox_to_anchor=(1.1, 1.05))\n",
    "\n",
    "plt.show()"
   ]
  },
  {
   "cell_type": "code",
   "execution_count": null,
   "id": "25eb5ce0-d848-4708-be6b-148e95f6c451",
   "metadata": {},
   "outputs": [],
   "source": [
    "topic = 3\n",
    "picks = peaks_dict[topic]\n",
    "\n",
    "# Plot the data and mark peaks\n",
    "fig, ax = plt.subplots(figsize=(12, 6))\n",
    "\n",
    "# Extract the time series for the current topic\n",
    "data = data_df[topic].values\n",
    "    \n",
    "# Plot the topic trend line\n",
    "ax.plot(data_df.index, data, label=f\"Topic {topic}\")\n",
    "    \n",
    "# Mark the peaks on the plot\n",
    "ax.plot(data_df.index[peaks], data[peaks], \"x\")\n",
    "\n",
    "# Customize plot\n",
    "ax.set_xlabel(\"Date\")\n",
    "ax.set_ylabel(\"Number of Entries\")\n",
    "ax.set_title(\"Dominant Topic Peaks Over Time\")\n",
    "ax.legend(title=\"Topics\")\n",
    "plt.show()\n"
   ]
  },
  {
   "cell_type": "code",
   "execution_count": null,
   "id": "98dfea65-fa37-407b-9b3c-001ffacb715f",
   "metadata": {
    "scrolled": true
   },
   "outputs": [],
   "source": [
    "topic = 22\n",
    "\n",
    "picks = peaks_dict[topic]\n",
    "\n",
    "# Plot the data and mark peaks\n",
    "fig, ax = plt.subplots(figsize=(12, 6))\n",
    "\n",
    "# Extract the time series for the current topic\n",
    "data = data_df[topic].values\n",
    "    \n",
    "# Plot the topic trend line\n",
    "ax.plot(data_df.index, data, label=f\"Topic {topic}\")\n",
    "    \n",
    "# Mark the peaks on the plot\n",
    "ax.plot(data_df.index[peaks], data[peaks], \"x\")\n",
    "\n",
    "# Customize plot\n",
    "ax.set_xlabel(\"Date\")\n",
    "ax.set_ylabel(\"Number of Entries\")\n",
    "ax.set_title(\"Dominant Topic Peaks Over Time\")\n",
    "ax.legend(title=\"Topics\")\n",
    "plt.show()"
   ]
  },
  {
   "cell_type": "code",
   "execution_count": null,
   "id": "352072be-7401-44e5-abd0-d5b3a39ab77a",
   "metadata": {},
   "outputs": [],
   "source": [
    "topic = 3\n",
    "# Get the row indices where the value in column j is the maximum in that row\n",
    "row_ids = np.where(np.argmax(embeddings, axis=1) == topic)[0]\n",
    "list_of_lists  = df.iloc[row_ids].cleaned_body.tolist()"
   ]
  },
  {
   "cell_type": "code",
   "execution_count": null,
   "id": "f8018698-c118-4534-807b-2bb7af5beacd",
   "metadata": {},
   "outputs": [],
   "source": [
    "# Read the whole text.\n",
    "topic = 3\n",
    "\n",
    "\n",
    "\n",
    "my_list = [item for sublist in list_of_lists for item in sublist]\n",
    "from collections import Counter\n",
    "word_could_dict=Counter(my_list)\n",
    "\n",
    "# Generate a word cloud image\n",
    "wordcloud = WordCloud().generate_from_frequencies(word_could_dict)\n",
    "\n",
    "# Display the generated image:\n",
    "# the matplotlib way:\n",
    "import matplotlib.pyplot as plt\n",
    "plt.imshow(wordcloud, interpolation='bilinear')\n",
    "plt.axis(\"off\")\n",
    "plt.show()"
   ]
  },
  {
   "cell_type": "markdown",
   "id": "76a4ca5c-f6a5-4443-8ff4-653241596f7e",
   "metadata": {},
   "source": [
    "# Evaluate your topic modeling results using the subreddit column."
   ]
  },
  {
   "cell_type": "code",
   "execution_count": null,
   "id": "649d01c8-02e6-4056-98e8-ff24691186a9",
   "metadata": {},
   "outputs": [],
   "source": [
    "labels = df.subreddit.values.tolist()"
   ]
  },
  {
   "cell_type": "code",
   "execution_count": null,
   "id": "86a986e2-432b-406b-af7f-ad039054ada2",
   "metadata": {},
   "outputs": [],
   "source": [
    "from sklearn.model_selection import train_test_split\n",
    "from sklearn.linear_model import LogisticRegression\n",
    "from sklearn.metrics import accuracy_score"
   ]
  },
  {
   "cell_type": "code",
   "execution_count": null,
   "id": "625a91fe-5801-4152-a9ac-cd77f2fc2c85",
   "metadata": {},
   "outputs": [],
   "source": [
    "X_train, X_test, y_train, y_test = train_test_split(embeddings, labels, test_size=0.2, random_state=42)\n"
   ]
  },
  {
   "cell_type": "code",
   "execution_count": null,
   "id": "c45d648a-3b9a-4035-8b37-90e17018eaf9",
   "metadata": {},
   "outputs": [],
   "source": [
    "# Initialize a classifier, e.g., RandomForestClassifier\n",
    "clf = LogisticRegression(solver='saga')"
   ]
  },
  {
   "cell_type": "code",
   "execution_count": null,
   "id": "46fb2747-da51-4db2-99b1-5ee61a7c29a6",
   "metadata": {},
   "outputs": [],
   "source": [
    "# Train the classifier\n",
    "clf.fit(X_train, y_train)"
   ]
  },
  {
   "cell_type": "code",
   "execution_count": null,
   "id": "a9335813-1659-40f4-9c0d-2d674e1e909c",
   "metadata": {},
   "outputs": [],
   "source": [
    "# Make predictions on the test set\n",
    "y_pred = clf.predict(X_test)"
   ]
  },
  {
   "cell_type": "code",
   "execution_count": null,
   "id": "374aef5e-2844-477e-9978-170ca5c24f1a",
   "metadata": {},
   "outputs": [],
   "source": [
    "from sklearn.metrics import ConfusionMatrixDisplay, confusion_matrix"
   ]
  },
  {
   "cell_type": "code",
   "execution_count": null,
   "id": "4cde8b57-decb-40b2-b4e4-bffffd52cd02",
   "metadata": {},
   "outputs": [],
   "source": [
    "unique_labels = list(set(y_test))\n",
    "cm = confusion_matrix(y_test, y_pred, labels=unique_labels)\n",
    "\n",
    "fig, ax = plt.subplots(figsize=(18, 18))\n",
    "\n",
    "disp = ConfusionMatrixDisplay(confusion_matrix=cm, display_labels = unique_labels)\n",
    "disp.plot(colorbar=False, ax=ax)\n",
    "ax.xaxis.set_ticks_position('top')\n",
    "ax.xaxis.set_label_position('top')\n",
    "for tick in ax.get_xticklabels():\n",
    "    tick.set_rotation(90)\n",
    "plt.show()"
   ]
  },
  {
   "cell_type": "code",
   "execution_count": null,
   "id": "265da84b-b98d-4022-beaf-6450b1ce198b",
   "metadata": {},
   "outputs": [],
   "source": []
  }
 ],
 "metadata": {
  "kernelspec": {
   "display_name": "Python 3 (ipykernel)",
   "language": "python",
   "name": "python3"
  },
  "language_info": {
   "codemirror_mode": {
    "name": "ipython",
    "version": 3
   },
   "file_extension": ".py",
   "mimetype": "text/x-python",
   "name": "python",
   "nbconvert_exporter": "python",
   "pygments_lexer": "ipython3",
   "version": "3.11.10"
  }
 },
 "nbformat": 4,
 "nbformat_minor": 5
}
